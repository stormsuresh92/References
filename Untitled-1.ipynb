{
 "cells": [
  {
   "cell_type": "code",
   "execution_count": 4,
   "metadata": {},
   "outputs": [],
   "source": [
    "import requests"
   ]
  },
  {
   "cell_type": "code",
   "execution_count": 5,
   "metadata": {},
   "outputs": [],
   "source": [
    "url = 'https://github.com/stormsuresh92'"
   ]
  },
  {
   "cell_type": "code",
   "execution_count": 6,
   "metadata": {},
   "outputs": [],
   "source": [
    "r = requests.get(url)"
   ]
  },
  {
   "cell_type": "code",
   "execution_count": 7,
   "metadata": {},
   "outputs": [
    {
     "name": "stdout",
     "output_type": "stream",
     "text": [
      "<Response [200]>\n"
     ]
    }
   ],
   "source": [
    "print(r)"
   ]
  },
  {
   "cell_type": "code",
   "execution_count": 9,
   "metadata": {},
   "outputs": [
    {
     "name": "stdout",
     "output_type": "stream",
     "text": [
      "{'Server': 'GitHub.com', 'Date': 'Wed, 08 Jun 2022 08:50:01 GMT', 'Content-Type': 'text/html; charset=utf-8', 'Vary': 'X-Requested-With, X-PJAX-Container, Turbo-Frame, Turbo-Visit, Accept-Encoding, Accept, X-Requested-With', 'permissions-policy': 'interest-cohort=()', 'ETag': 'W/\"429620afe3558fdfaf40cf31a7cbbd87\"', 'Cache-Control': 'max-age=0, private, must-revalidate', 'Strict-Transport-Security': 'max-age=31536000; includeSubdomains; preload', 'X-Frame-Options': 'deny', 'X-Content-Type-Options': 'nosniff', 'X-XSS-Protection': '0', 'Referrer-Policy': 'origin-when-cross-origin, strict-origin-when-cross-origin', 'Expect-CT': 'max-age=2592000, report-uri=\"https://api.github.com/_private/browser/errors\"', 'Content-Security-Policy': \"default-src 'none'; base-uri 'self'; block-all-mixed-content; child-src github.com/assets-cdn/worker/ gist.github.com/assets-cdn/worker/; connect-src 'self' uploads.github.com objects-origin.githubusercontent.com www.githubstatus.com collector.github.com raw.githubusercontent.com api.github.com github-cloud.s3.amazonaws.com github-production-repository-file-5c1aeb.s3.amazonaws.com github-production-upload-manifest-file-7fdce7.s3.amazonaws.com github-production-user-asset-6210df.s3.amazonaws.com cdn.optimizely.com logx.optimizely.com/v1/events *.actions.githubusercontent.com wss://*.actions.githubusercontent.com online.visualstudio.com/api/v1/locations github-production-repository-image-32fea6.s3.amazonaws.com github-production-release-asset-2e65be.s3.amazonaws.com insights.github.com wss://alive.github.com; font-src github.githubassets.com; form-action 'self' github.com gist.github.com objects-origin.githubusercontent.com; frame-ancestors 'none'; frame-src render.githubusercontent.com viewscreen.githubusercontent.com notebooks.githubusercontent.com; img-src 'self' data: github.githubassets.com identicons.github.com github-cloud.s3.amazonaws.com secured-user-images.githubusercontent.com/ github-production-user-asset-6210df.s3.amazonaws.com *.githubusercontent.com; manifest-src 'self'; media-src github.com user-images.githubusercontent.com/; script-src github.githubassets.com; style-src 'unsafe-inline' github.githubassets.com; worker-src github.com/assets-cdn/worker/ gist.github.com/assets-cdn/worker/\", 'Content-Encoding': 'gzip', 'Set-Cookie': '_gh_sess=HzuALW3Rhsi6X9Hx%2FSVlzDDIZvKgD99Hh0bvoLFGCEFPZVWvJcRRYIAc%2FKjiFrtyoOjXQGUOD6ScpRcfv%2FKm4ao3iM2Gk6hC543zkhiEnTdL3INytW5AAeTUG6w6aov411UUXiUwzDAjZroxbF1Y5HIUd1Ny%2BQTckNoHke2lohii3m3sVhXSc%2BxLvSP0ZkYa9C%2B4R28ObadiJ4EAM9w%2BsF8ZGyf%2BSkZYuwDbNcFnpHxqkywNYwpxMXFayB0wlPDwqeYsQvvrlU3ZB%2FkHsbfaVg%3D%3D--AUZslxrydnlDUf%2FF--hixZVv8yRuJIBLEqUizSyA%3D%3D; Path=/; HttpOnly; Secure; SameSite=Lax, _octo=GH1.1.2033610183.1654678201; Path=/; Domain=github.com; Expires=Thu, 08 Jun 2023 08:50:01 GMT; Secure; SameSite=Lax, logged_in=no; Path=/; Domain=github.com; Expires=Thu, 08 Jun 2023 08:50:01 GMT; HttpOnly; Secure; SameSite=Lax', 'Accept-Ranges': 'bytes', 'Transfer-Encoding': 'chunked', 'X-GitHub-Request-Id': 'D0B5:78BF:17461CC:1A83CFC:62A062B8'}\n"
     ]
    }
   ],
   "source": [
    "print(r.headers)"
   ]
  },
  {
   "cell_type": "code",
   "execution_count": 13,
   "metadata": {},
   "outputs": [
    {
     "name": "stdout",
     "output_type": "stream",
     "text": [
      "<RequestsCookieJar[<Cookie _octo=GH1.1.2033610183.1654678201 for .github.com/>, <Cookie logged_in=no for .github.com/>, <Cookie _gh_sess=HzuALW3Rhsi6X9Hx%2FSVlzDDIZvKgD99Hh0bvoLFGCEFPZVWvJcRRYIAc%2FKjiFrtyoOjXQGUOD6ScpRcfv%2FKm4ao3iM2Gk6hC543zkhiEnTdL3INytW5AAeTUG6w6aov411UUXiUwzDAjZroxbF1Y5HIUd1Ny%2BQTckNoHke2lohii3m3sVhXSc%2BxLvSP0ZkYa9C%2B4R28ObadiJ4EAM9w%2BsF8ZGyf%2BSkZYuwDbNcFnpHxqkywNYwpxMXFayB0wlPDwqeYsQvvrlU3ZB%2FkHsbfaVg%3D%3D--AUZslxrydnlDUf%2FF--hixZVv8yRuJIBLEqUizSyA%3D%3D for github.com/>]>\n"
     ]
    }
   ],
   "source": [
    "print(r.cookies)"
   ]
  }
 ],
 "metadata": {
  "interpreter": {
   "hash": "52634da84371cba311ea128a5ea7cdc41ff074b781779e754b270ff9f8153cee"
  },
  "kernelspec": {
   "display_name": "Python 3.9.10 32-bit",
   "language": "python",
   "name": "python3"
  },
  "language_info": {
   "codemirror_mode": {
    "name": "ipython",
    "version": 3
   },
   "file_extension": ".py",
   "mimetype": "text/x-python",
   "name": "python",
   "nbconvert_exporter": "python",
   "pygments_lexer": "ipython3",
   "version": "3.9.10"
  },
  "orig_nbformat": 4
 },
 "nbformat": 4,
 "nbformat_minor": 2
}
